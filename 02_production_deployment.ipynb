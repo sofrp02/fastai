{
 "cells": [
  {
   "cell_type": "code",
   "execution_count": 35,
   "metadata": {
    "collapsed": true
   },
   "outputs": [],
   "source": [
    "import fastbook\n",
    "fastbook.setup_book()\n",
    "from fastbook import *\n",
    "from fastai.vision.widgets import *\n",
    "from fastai.vision.all import *"
   ]
  },
  {
   "cell_type": "code",
   "execution_count": 19,
   "metadata": {},
   "outputs": [
    {
     "ename": "ModuleNotFoundError",
     "evalue": "No module named 'voila'",
     "output_type": "error",
     "traceback": [
      "\u001b[0;31m---------------------------------------------------------------------------\u001b[0m",
      "\u001b[0;31mModuleNotFoundError\u001b[0m                       Traceback (most recent call last)",
      "\u001b[0;32m<ipython-input-19-f839812ca989>\u001b[0m in \u001b[0;36m<module>\u001b[0;34m\u001b[0m\n\u001b[1;32m      1\u001b[0m \u001b[0;32mfrom\u001b[0m \u001b[0mipywidgets\u001b[0m \u001b[0;32mimport\u001b[0m \u001b[0;34m*\u001b[0m\u001b[0;34m\u001b[0m\u001b[0;34m\u001b[0m\u001b[0m\n\u001b[0;32m----> 2\u001b[0;31m \u001b[0;32mimport\u001b[0m \u001b[0mvoila\u001b[0m\u001b[0;34m\u001b[0m\u001b[0;34m\u001b[0m\u001b[0m\n\u001b[0m",
      "\u001b[0;31mModuleNotFoundError\u001b[0m: No module named 'voila'"
     ]
    }
   ],
   "source": [
    "from ipywidgets import *\n",
    "import voila"
   ]
  },
  {
   "cell_type": "code",
   "execution_count": 26,
   "metadata": {},
   "outputs": [
    {
     "name": "stdout",
     "output_type": "stream",
     "text": [
      "Collecting voila\n",
      "  Using cached https://files.pythonhosted.org/packages/06/cc/3f52d2b15d724e4707a440b799c4a9c81b98ffe0ba3a035d1aabf5110730/voila-0.3.0-py3-none-any.whl\n",
      "Requirement already satisfied: jupyter-client<8,>=6.1.3 in /Users/Sofia/anaconda3/lib/python3.6/site-packages (from voila) (7.1.0)\n",
      "Requirement already satisfied: websockets>=9.0 in /Users/Sofia/anaconda3/lib/python3.6/site-packages (from voila) (9.1)\n",
      "Collecting jupyter-server<2.0.0,>=0.3.0 (from voila)\n",
      "  Using cached https://files.pythonhosted.org/packages/b3/4e/4708209ecc355f71a321a9478f19c16bcd4dc02f57de9e8dcbd244127a5c/jupyter_server-1.13.1-py3-none-any.whl\n",
      "Requirement already satisfied: nbclient<0.6,>=0.4.0 in /Users/Sofia/anaconda3/lib/python3.6/site-packages (from voila) (0.5.9)\n",
      "Requirement already satisfied: nbconvert<7,>=6.0.0 in /Users/Sofia/anaconda3/lib/python3.6/site-packages (from voila) (6.0.7)\n",
      "Requirement already satisfied: entrypoints in /Users/Sofia/anaconda3/lib/python3.6/site-packages (from jupyter-client<8,>=6.1.3->voila) (0.2.3)\n",
      "Requirement already satisfied: pyzmq>=13 in /Users/Sofia/anaconda3/lib/python3.6/site-packages (from jupyter-client<8,>=6.1.3->voila) (16.0.2)\n",
      "Requirement already satisfied: traitlets in /Users/Sofia/anaconda3/lib/python3.6/site-packages (from jupyter-client<8,>=6.1.3->voila) (4.3.2)\n",
      "Requirement already satisfied: python-dateutil>=2.1 in /Users/Sofia/anaconda3/lib/python3.6/site-packages (from jupyter-client<8,>=6.1.3->voila) (2.8.0)\n",
      "Requirement already satisfied: jupyter-core>=4.6.0 in /Users/Sofia/anaconda3/lib/python3.6/site-packages (from jupyter-client<8,>=6.1.3->voila) (4.9.1)\n",
      "Requirement already satisfied: nest-asyncio>=1.5 in /Users/Sofia/anaconda3/lib/python3.6/site-packages (from jupyter-client<8,>=6.1.3->voila) (1.5.4)\n",
      "Requirement already satisfied: tornado>=4.1 in /Users/Sofia/anaconda3/lib/python3.6/site-packages (from jupyter-client<8,>=6.1.3->voila) (6.1)\n",
      "Requirement already satisfied: argon2-cffi in /Users/Sofia/anaconda3/lib/python3.6/site-packages (from jupyter-server<2.0.0,>=0.3.0->voila) (21.3.0)\n",
      "Requirement already satisfied: Send2Trash in /Users/Sofia/anaconda3/lib/python3.6/site-packages (from jupyter-server<2.0.0,>=0.3.0->voila) (1.5.0)\n",
      "Requirement already satisfied: anyio<4,>=3.1.0 in /Users/Sofia/anaconda3/lib/python3.6/site-packages (from jupyter-server<2.0.0,>=0.3.0->voila) (3.4.0)\n",
      "Requirement already satisfied: jinja2 in /Users/Sofia/anaconda3/lib/python3.6/site-packages (from jupyter-server<2.0.0,>=0.3.0->voila) (2.9.6)\n",
      "Requirement already satisfied: websocket-client in /Users/Sofia/anaconda3/lib/python3.6/site-packages (from jupyter-server<2.0.0,>=0.3.0->voila) (1.2.3)\n",
      "Collecting terminado>=0.8.3 (from jupyter-server<2.0.0,>=0.3.0->voila)\n",
      "  Using cached https://files.pythonhosted.org/packages/cb/17/b1162b39786c44e14d30ee557fbf41276c4a966dab01106c15fb70f5c27a/terminado-0.12.1-py3-none-any.whl\n",
      "Requirement already satisfied: prometheus-client in /Users/Sofia/anaconda3/lib/python3.6/site-packages (from jupyter-server<2.0.0,>=0.3.0->voila) (0.12.0)\n",
      "Requirement already satisfied: nbformat in /Users/Sofia/anaconda3/lib/python3.6/site-packages (from jupyter-server<2.0.0,>=0.3.0->voila) (5.1.3)\n",
      "Requirement already satisfied: ipython-genutils in /Users/Sofia/anaconda3/lib/python3.6/site-packages (from jupyter-server<2.0.0,>=0.3.0->voila) (0.2.0)\n",
      "Requirement already satisfied: async-generator; python_version < \"3.7\" in /Users/Sofia/anaconda3/lib/python3.6/site-packages (from nbclient<0.6,>=0.4.0->voila) (1.10)\n",
      "Requirement already satisfied: jupyterlab-pygments in /Users/Sofia/anaconda3/lib/python3.6/site-packages (from nbconvert<7,>=6.0.0->voila) (0.1.2)\n",
      "Requirement already satisfied: bleach in /Users/Sofia/anaconda3/lib/python3.6/site-packages (from nbconvert<7,>=6.0.0->voila) (3.3.0)\n",
      "Requirement already satisfied: pandocfilters>=1.4.1 in /Users/Sofia/anaconda3/lib/python3.6/site-packages (from nbconvert<7,>=6.0.0->voila) (1.4.2)\n",
      "Requirement already satisfied: defusedxml in /Users/Sofia/anaconda3/lib/python3.6/site-packages (from nbconvert<7,>=6.0.0->voila) (0.7.1)\n",
      "Requirement already satisfied: mistune<2,>=0.8.1 in /Users/Sofia/anaconda3/lib/python3.6/site-packages (from nbconvert<7,>=6.0.0->voila) (0.8.4)\n",
      "Requirement already satisfied: pygments>=2.4.1 in /Users/Sofia/anaconda3/lib/python3.6/site-packages (from nbconvert<7,>=6.0.0->voila) (2.10.0)\n",
      "Requirement already satisfied: testpath in /Users/Sofia/anaconda3/lib/python3.6/site-packages (from nbconvert<7,>=6.0.0->voila) (0.3.1)\n",
      "Requirement already satisfied: six in /Users/Sofia/anaconda3/lib/python3.6/site-packages (from traitlets->jupyter-client<8,>=6.1.3->voila) (1.12.0)\n",
      "Requirement already satisfied: decorator in /Users/Sofia/anaconda3/lib/python3.6/site-packages (from traitlets->jupyter-client<8,>=6.1.3->voila) (4.4.0)\n",
      "Requirement already satisfied: dataclasses; python_version < \"3.7\" in /Users/Sofia/anaconda3/lib/python3.6/site-packages (from argon2-cffi->jupyter-server<2.0.0,>=0.3.0->voila) (0.8)\n",
      "Requirement already satisfied: argon2-cffi-bindings in /Users/Sofia/anaconda3/lib/python3.6/site-packages (from argon2-cffi->jupyter-server<2.0.0,>=0.3.0->voila) (21.2.0)\n",
      "Requirement already satisfied: typing-extensions; python_version < \"3.8\" in /Users/Sofia/anaconda3/lib/python3.6/site-packages (from argon2-cffi->jupyter-server<2.0.0,>=0.3.0->voila) (3.7.4.3)\n",
      "Requirement already satisfied: idna>=2.8 in /Users/Sofia/anaconda3/lib/python3.6/site-packages (from anyio<4,>=3.1.0->jupyter-server<2.0.0,>=0.3.0->voila) (2.8)\n",
      "Requirement already satisfied: contextvars; python_version < \"3.7\" in /Users/Sofia/anaconda3/lib/python3.6/site-packages (from anyio<4,>=3.1.0->jupyter-server<2.0.0,>=0.3.0->voila) (2.4)\n",
      "Requirement already satisfied: sniffio>=1.1 in /Users/Sofia/anaconda3/lib/python3.6/site-packages (from anyio<4,>=3.1.0->jupyter-server<2.0.0,>=0.3.0->voila) (1.2.0)\n",
      "Requirement already satisfied: MarkupSafe>=0.23 in /Users/Sofia/anaconda3/lib/python3.6/site-packages (from jinja2->jupyter-server<2.0.0,>=0.3.0->voila) (1.0)\n",
      "Requirement already satisfied: ptyprocess; os_name != \"nt\" in /Users/Sofia/anaconda3/lib/python3.6/site-packages (from terminado>=0.8.3->jupyter-server<2.0.0,>=0.3.0->voila) (0.5.2)\n",
      "Requirement already satisfied: jsonschema!=2.5.0,>=2.4 in /Users/Sofia/anaconda3/lib/python3.6/site-packages (from nbformat->jupyter-server<2.0.0,>=0.3.0->voila) (3.0.1)\n",
      "Requirement already satisfied: webencodings in /Users/Sofia/anaconda3/lib/python3.6/site-packages (from bleach->nbconvert<7,>=6.0.0->voila) (0.5.1)\n",
      "Requirement already satisfied: packaging in /Users/Sofia/anaconda3/lib/python3.6/site-packages (from bleach->nbconvert<7,>=6.0.0->voila) (20.9)\n",
      "Requirement already satisfied: cffi>=1.0.1 in /Users/Sofia/anaconda3/lib/python3.6/site-packages (from argon2-cffi-bindings->argon2-cffi->jupyter-server<2.0.0,>=0.3.0->voila) (1.12.2)\n",
      "Requirement already satisfied: immutables>=0.9 in /Users/Sofia/anaconda3/lib/python3.6/site-packages (from contextvars; python_version < \"3.7\"->anyio<4,>=3.1.0->jupyter-server<2.0.0,>=0.3.0->voila) (0.16)\n",
      "Requirement already satisfied: attrs>=17.4.0 in /Users/Sofia/anaconda3/lib/python3.6/site-packages (from jsonschema!=2.5.0,>=2.4->nbformat->jupyter-server<2.0.0,>=0.3.0->voila) (19.1.0)\n",
      "Requirement already satisfied: pyrsistent>=0.14.0 in /Users/Sofia/anaconda3/lib/python3.6/site-packages (from jsonschema!=2.5.0,>=2.4->nbformat->jupyter-server<2.0.0,>=0.3.0->voila) (0.14.11)\n",
      "Requirement already satisfied: setuptools in /Users/Sofia/anaconda3/lib/python3.6/site-packages (from jsonschema!=2.5.0,>=2.4->nbformat->jupyter-server<2.0.0,>=0.3.0->voila) (40.8.0)\n",
      "Requirement already satisfied: pyparsing>=2.0.2 in /Users/Sofia/anaconda3/lib/python3.6/site-packages (from packaging->bleach->nbconvert<7,>=6.0.0->voila) (2.2.0)\n",
      "Requirement already satisfied: pycparser in /Users/Sofia/anaconda3/lib/python3.6/site-packages (from cffi>=1.0.1->argon2-cffi-bindings->argon2-cffi->jupyter-server<2.0.0,>=0.3.0->voila) (2.19)\n",
      "\u001b[31mjupyter-server 1.13.1 has requirement pyzmq>=17, but you'll have pyzmq 16.0.2 which is incompatible.\u001b[0m\n",
      "Installing collected packages: terminado, jupyter-server, voila\n",
      "  Found existing installation: terminado 0.6\n",
      "\u001b[31mCannot uninstall 'terminado'. It is a distutils installed project and thus we cannot accurately determine which files belong to it which would lead to only a partial uninstall.\u001b[0m\n"
     ]
    }
   ],
   "source": [
    "# !pip install voila\n",
    "# "
   ]
  },
  {
   "cell_type": "code",
   "execution_count": 25,
   "metadata": {},
   "outputs": [
    {
     "name": "stdout",
     "output_type": "stream",
     "text": [
      "Enabling: voila\r\n",
      "- Writing config: /Users/Sofia/anaconda3/etc/jupyter\r\n",
      "    - Validating...\r\n",
      "Error loading server extension voila\r\n",
      "     \u001b[31m X\u001b[0m is voila importable?\r\n"
     ]
    }
   ],
   "source": [
    "# !jupyter nbextension enable --py widgetsnbextension\n",
    "!jupyter serverextension enable --sys-prefix voila "
   ]
  },
  {
   "cell_type": "code",
   "execution_count": 10,
   "metadata": {},
   "outputs": [
    {
     "name": "stdout",
     "output_type": "stream",
     "text": [
      "Traceback (most recent call last):\n",
      "  File \"/Users/Sofia/anaconda3/bin/jupyter-labextension\", line 7, in <module>\n",
      "    from jupyterlab.labextensions import main\n",
      "  File \"/Users/Sofia/anaconda3/lib/python3.6/site-packages/jupyterlab/__init__.py\", line 7, in <module>\n",
      "    from .extension import load_jupyter_server_extension\n",
      "  File \"/Users/Sofia/anaconda3/lib/python3.6/site-packages/jupyterlab/extension.py\", line 8, in <module>\n",
      "    from jupyterlab_launcher import add_handlers, LabConfig\n",
      "  File \"/Users/Sofia/anaconda3/lib/python3.6/site-packages/jupyterlab_launcher/__init__.py\", line 5, in <module>\n",
      "    from .handlers import add_handlers, LabHandler, LabConfig\n",
      "  File \"/Users/Sofia/anaconda3/lib/python3.6/site-packages/jupyterlab_launcher/handlers.py\", line 8, in <module>\n",
      "    from tornado import web\n",
      "  File \"/Users/Sofia/anaconda3/lib/python3.6/site-packages/tornado/web.py\", line 83, in <module>\n",
      "    from tornado.concurrent import Future\n",
      "  File \"/Users/Sofia/anaconda3/lib/python3.6/site-packages/tornado/concurrent.py\", line 27, in <module>\n",
      "    import platform\n",
      "  File \"/Users/Sofia/anaconda3/lib/python3.6/platform.py\", line 116, in <module>\n",
      "    import sys, os, re, subprocess\n",
      "  File \"/Users/Sofia/anaconda3/lib/python3.6/subprocess.py\", line 136, in <module>\n",
      "    import _posixsubprocess\n",
      "ImportError: dlopen(/Users/Sofia/anaconda3/lib/python3.6/lib-dynload/_posixsubprocess.cpython-36m-darwin.so, 2): Symbol not found: __Py_set_inheritable_async_safe\n",
      "  Referenced from: /Users/Sofia/anaconda3/lib/python3.6/lib-dynload/_posixsubprocess.cpython-36m-darwin.so\n",
      "  Expected in: flat namespace\n",
      " in /Users/Sofia/anaconda3/lib/python3.6/lib-dynload/_posixsubprocess.cpython-36m-darwin.so\n"
     ]
    }
   ],
   "source": [
    "!jupyter labextension install @jupyter-widgets/jupyterlab-manager\n"
   ]
  },
  {
   "cell_type": "code",
   "execution_count": 13,
   "metadata": {
    "collapsed": true
   },
   "outputs": [],
   "source": [
    "learn_inf = load_learner('export.pkl')"
   ]
  },
  {
   "cell_type": "code",
   "execution_count": 27,
   "metadata": {},
   "outputs": [
    {
     "data": {
      "application/vnd.jupyter.widget-view+json": {
       "model_id": "79ca916688dd4a98a88d80d8d417ffe5",
       "version_major": 2,
       "version_minor": 0
      },
      "text/plain": [
       "FileUpload(value={}, description='Upload')"
      ]
     },
     "metadata": {},
     "output_type": "display_data"
    }
   ],
   "source": [
    "btn_upload = widgets.FileUpload()\n",
    "btn_upload"
   ]
  },
  {
   "cell_type": "code",
   "execution_count": 15,
   "metadata": {},
   "outputs": [
    {
     "data": {
      "application/vnd.jupyter.widget-view+json": {
       "model_id": "55a6e21abb4645148799bf09fd29171e",
       "version_major": 2,
       "version_minor": 0
      },
      "text/plain": [
       "FileUpload(value={}, description='Upload')"
      ]
     },
     "metadata": {},
     "output_type": "display_data"
    }
   ],
   "source": [
    "btn_upload"
   ]
  },
  {
   "cell_type": "code",
   "execution_count": 16,
   "metadata": {},
   "outputs": [
    {
     "ename": "IndexError",
     "evalue": "list index out of range",
     "output_type": "error",
     "traceback": [
      "\u001b[0;31m---------------------------------------------------------------------------\u001b[0m",
      "\u001b[0;31mIndexError\u001b[0m                                Traceback (most recent call last)",
      "\u001b[0;32m<ipython-input-16-82db33b3197c>\u001b[0m in \u001b[0;36m<module>\u001b[0;34m\u001b[0m\n\u001b[0;32m----> 1\u001b[0;31m \u001b[0mimg\u001b[0m \u001b[0;34m=\u001b[0m \u001b[0mPILImage\u001b[0m\u001b[0;34m.\u001b[0m\u001b[0mcreate\u001b[0m\u001b[0;34m(\u001b[0m\u001b[0mbtn_upload\u001b[0m\u001b[0;34m.\u001b[0m\u001b[0mdata\u001b[0m\u001b[0;34m[\u001b[0m\u001b[0;34m-\u001b[0m\u001b[0;36m1\u001b[0m\u001b[0;34m]\u001b[0m\u001b[0;34m)\u001b[0m\u001b[0;34m\u001b[0m\u001b[0;34m\u001b[0m\u001b[0m\n\u001b[0m",
      "\u001b[0;31mIndexError\u001b[0m: list index out of range"
     ]
    }
   ],
   "source": [
    "img = PILImage.create(btn_upload.data[-1])\n"
   ]
  },
  {
   "cell_type": "code",
   "execution_count": 24,
   "metadata": {
    "collapsed": true
   },
   "outputs": [],
   "source": [
    "# btn_upload = SimpleNamespace(data=['pol.jpg'])"
   ]
  },
  {
   "cell_type": "code",
   "execution_count": 25,
   "metadata": {},
   "outputs": [
    {
     "ename": "IndexError",
     "evalue": "list index out of range",
     "output_type": "error",
     "traceback": [
      "\u001b[0;31m---------------------------------------------------------------------------\u001b[0m",
      "\u001b[0;31mIndexError\u001b[0m                                Traceback (most recent call last)",
      "\u001b[0;32m<ipython-input-25-811bc5ee66b1>\u001b[0m in \u001b[0;36m<module>\u001b[0;34m\u001b[0m\n\u001b[0;32m----> 1\u001b[0;31m \u001b[0mimg\u001b[0m \u001b[0;34m=\u001b[0m \u001b[0mPILImage\u001b[0m\u001b[0;34m.\u001b[0m\u001b[0mcreate\u001b[0m\u001b[0;34m(\u001b[0m\u001b[0mbtn_upload\u001b[0m\u001b[0;34m.\u001b[0m\u001b[0mdata\u001b[0m\u001b[0;34m[\u001b[0m\u001b[0;34m-\u001b[0m\u001b[0;36m1\u001b[0m\u001b[0;34m]\u001b[0m\u001b[0;34m)\u001b[0m\u001b[0;34m\u001b[0m\u001b[0;34m\u001b[0m\u001b[0m\n\u001b[0m\u001b[1;32m      2\u001b[0m \u001b[0mimg\u001b[0m\u001b[0;34m\u001b[0m\u001b[0;34m\u001b[0m\u001b[0m\n",
      "\u001b[0;31mIndexError\u001b[0m: list index out of range"
     ]
    }
   ],
   "source": [
    "img = PILImage.create(btn_upload.data[-1])\n",
    "img"
   ]
  },
  {
   "cell_type": "code",
   "execution_count": 26,
   "metadata": {},
   "outputs": [
    {
     "data": {
      "application/vnd.jupyter.widget-view+json": {
       "model_id": "63d702f4a49a41e8a8541b907290e350",
       "version_major": 2,
       "version_minor": 0
      },
      "text/plain": [
       "Output()"
      ]
     },
     "metadata": {},
     "output_type": "display_data"
    }
   ],
   "source": [
    "out_pl = widgets.Output()\n",
    "out_pl.clear_output()\n",
    "with out_pl: display(img.to_thumb(128,128))\n",
    "out_pl"
   ]
  },
  {
   "cell_type": "code",
   "execution_count": 27,
   "metadata": {},
   "outputs": [
    {
     "data": {
      "text/html": [],
      "text/plain": [
       "<IPython.core.display.HTML object>"
      ]
     },
     "metadata": {},
     "output_type": "display_data"
    }
   ],
   "source": [
    "pred, pred_idx, probs = learn_inf.predict(img)"
   ]
  },
  {
   "cell_type": "code",
   "execution_count": 28,
   "metadata": {
    "collapsed": true
   },
   "outputs": [],
   "source": [
    "lbl_pred = widgets.Label()\n",
    "lbl_pred.value = f'Prediction: {pred}; Probability: {probs[pred_idx]:0.4f}'"
   ]
  },
  {
   "cell_type": "code",
   "execution_count": 29,
   "metadata": {},
   "outputs": [
    {
     "data": {
      "application/vnd.jupyter.widget-view+json": {
       "model_id": "56fa0b44bc784b9fa205423d78339ed3",
       "version_major": 2,
       "version_minor": 0
      },
      "text/plain": [
       "Label(value='Prediction: polar; Probability: 1.0000')"
      ]
     },
     "metadata": {},
     "output_type": "display_data"
    }
   ],
   "source": [
    "lbl_pred"
   ]
  },
  {
   "cell_type": "code",
   "execution_count": 36,
   "metadata": {},
   "outputs": [
    {
     "data": {
      "application/vnd.jupyter.widget-view+json": {
       "model_id": "e7de33e028364341b27360b90b47755b",
       "version_major": 2,
       "version_minor": 0
      },
      "text/plain": [
       "Button(description='Classify', style=ButtonStyle())"
      ]
     },
     "metadata": {},
     "output_type": "display_data"
    }
   ],
   "source": [
    "#Classification button\n",
    "btn_run = widgets.Button(description=\"Classify\")\n",
    "btn_run"
   ]
  },
  {
   "cell_type": "code",
   "execution_count": 37,
   "metadata": {
    "collapsed": true
   },
   "outputs": [],
   "source": [
    "out_pl = widgets.Output()\n",
    "lbl_pred = widgets.Label()"
   ]
  },
  {
   "cell_type": "code",
   "execution_count": 38,
   "metadata": {
    "collapsed": true
   },
   "outputs": [],
   "source": [
    "#Merge\n",
    "def on_click_classify(change):\n",
    "    img = PILImage.create(btn_upload.data[-1])\n",
    "    out_pl.clear_output()\n",
    "    with out_pl: display(img.to_thumb(128,128))\n",
    "    pred,pred_idx,probs = learn_inf.predict(img)\n",
    "    lbl_pred.value = f'Prediction: {pred}; Probability: {probs[pred_idx]:.04f}'\n",
    "btn_run.on_click(on_click_classify)"
   ]
  },
  {
   "cell_type": "code",
   "execution_count": null,
   "metadata": {
    "collapsed": true
   },
   "outputs": [],
   "source": []
  },
  {
   "cell_type": "code",
   "execution_count": 39,
   "metadata": {},
   "outputs": [
    {
     "data": {
      "application/vnd.jupyter.widget-view+json": {
       "model_id": "e7de33e028364341b27360b90b47755b",
       "version_major": 2,
       "version_minor": 0
      },
      "text/plain": [
       "Button(description='Classify', style=ButtonStyle())"
      ]
     },
     "metadata": {},
     "output_type": "display_data"
    }
   ],
   "source": [
    "btn_run"
   ]
  },
  {
   "cell_type": "code",
   "execution_count": 40,
   "metadata": {
    "collapsed": true
   },
   "outputs": [],
   "source": [
    "btn_upload = widgets.FileUpload()"
   ]
  },
  {
   "cell_type": "code",
   "execution_count": 41,
   "metadata": {},
   "outputs": [
    {
     "data": {
      "application/vnd.jupyter.widget-view+json": {
       "model_id": "debad7d63e354f71b95d78d03acd17f4",
       "version_major": 2,
       "version_minor": 0
      },
      "text/plain": [
       "VBox(children=(Label(value='Select your bear!'), FileUpload(value={}, description='Upload'), Button(descriptio…"
      ]
     },
     "metadata": {},
     "output_type": "display_data"
    }
   ],
   "source": [
    "VBox([widgets.Label('Select your bear!'), \n",
    "      btn_upload, btn_run, out_pl, lbl_pred])"
   ]
  },
  {
   "cell_type": "code",
   "execution_count": 42,
   "metadata": {},
   "outputs": [
    {
     "data": {
      "text/plain": [
       "ipywidgets.widgets.widget_box.VBox"
      ]
     },
     "execution_count": 42,
     "metadata": {},
     "output_type": "execute_result"
    }
   ],
   "source": [
    "VBox"
   ]
  },
  {
   "cell_type": "code",
   "execution_count": null,
   "metadata": {
    "collapsed": true
   },
   "outputs": [],
   "source": []
  }
 ],
 "metadata": {
  "kernelspec": {
   "display_name": "fastai",
   "language": "python",
   "name": "fastai"
  },
  "language_info": {
   "codemirror_mode": {
    "name": "ipython",
    "version": 3
   },
   "file_extension": ".py",
   "mimetype": "text/x-python",
   "name": "python",
   "nbconvert_exporter": "python",
   "pygments_lexer": "ipython3",
   "version": "3.7.11"
  }
 },
 "nbformat": 4,
 "nbformat_minor": 2
}
